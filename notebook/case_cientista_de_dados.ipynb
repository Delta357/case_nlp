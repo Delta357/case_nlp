{
  "nbformat": 4,
  "nbformat_minor": 0,
  "metadata": {
    "colab": {
      "private_outputs": true,
      "provenance": []
    },
    "kernelspec": {
      "name": "python3",
      "display_name": "Python 3"
    },
    "language_info": {
      "name": "python"
    }
  },
  "cells": [
    {
      "cell_type": "markdown",
      "source": [
        "# **Conhecimentos Subjetivos sobre Python**\n"
      ],
      "metadata": {
        "id": "BUjVJLGo02cS"
      }
    },
    {
      "cell_type": "markdown",
      "source": [
        "**1) Diga em suas palavras (resumidamente): por que PEP 8 é importante (ou se não é, defenda seu ponto de vista) ? Na prática você utiliza ? Voce pensa o código (coda) já \"em\" PEP 8 ou corrige posteriormente (justifique)? (obs. Não é um requisito obrigatório pra contratação)**"
      ],
      "metadata": {
        "id": "x5lvLLU21A_v"
      }
    },
    {
      "cell_type": "markdown",
      "source": [
        "R: PEP 8, que é o guia de estilo para código Python, é importante por diversos motivos. Ele estabelece diretrizes claras e consistentes para a escrita de código, facilitando a leitura, compreensão e manutenção do código-fonte. A aderência ao PEP 8 torna o código mais legível e acessível, tanto para o próprio desenvolvedor quanto para outros colaboradores que possam trabalhar no projeto.\n",
        "\n",
        "Além disso, um código bem formatado e organizado ajuda a evitar erros e torna mais fácil a detecção e correção de problemas. No entanto, é normal que, durante o processo de desenvolvimento, pequenos desvios do PEP 8 possam ocorrer. Nesses casos, é recomendável corrigir posteriormente o código para se adequar às diretrizes do PEP 8. Isso ajuda a manter a consistência no código e a facilitar sua manutenção futura.\n",
        "\n",
        "O PEP 8 é importante para manter um padrão de estilo de código que favoreça a legibilidade, compreensão e manutenção do código Python. Idealmente, o código deve ser pensado e escrito seguindo as diretrizes do PEP 8 desde o início, mas é possível corrigir posteriormente caso ocorram desvios."
      ],
      "metadata": {
        "id": "IoioGFOJ1Evq"
      }
    },
    {
      "cell_type": "markdown",
      "source": [
        "**2) Por que python ?**\n",
        "\n",
        "Python é uma linguagem de programação amplamente adotada e popular por uma série de razões. Aqui estão alguns motivos pelos quais Python é escolhido por muitos desenvolvedores:\n",
        "\n",
        "1) Simplicidade e facilidade de uso: Python possui uma sintaxe clara e concisa, o que torna a linguagem fácil de aprender e entender. Sua legibilidade facilita a escrita de código, reduzindo a complexidade e o tempo necessário para desenvolver soluções.\n",
        "\n",
        "2) Versatilidade: Python é uma linguagem versátil, adequada para uma ampla gama de domínios de aplicação. Pode ser utilizado no desenvolvimento web, análise de dados, inteligência artificial, automação de tarefas, ciência de dados, entre outros. Essa flexibilidade torna Python uma escolha popular entre programadores que desejam abordar diferentes tipos de projetos.\n",
        "\n",
        "3) Grande comunidade e ecossistema: Python possui uma comunidade ativa e engajada, o que resulta em uma vasta quantidade de recursos, bibliotecas e frameworks disponíveis. Através do Python Package Index (PyPI), é possível acessar milhares de pacotes que facilitam o desenvolvimento de projetos e oferecem soluções pré-existentes para muitos problemas comuns.\n",
        "\n",
        "4) Bibliotecas poderosas: Python possui uma rica coleção de bibliotecas e frameworks, que abrangem áreas como aprendizado de máquina (scikit-learn, TensorFlow), processamento de linguagem natural (NLTK, spaCy), visualização de dados (Matplotlib, Seaborn) e muito mais. Essas bibliotecas fornecem funcionalidades robustas, permitindo que os desenvolvedores acelerem o desenvolvimento de projetos complexos.\n",
        "\n",
        "5) Compatibilidade e integração: Python é compatível com várias outras linguagens, permitindo a integração com sistemas existentes. Além disso, existem muitas ferramentas que facilitam a interoperabilidade entre Python e outras linguagens, como C/C++, Java e .NET.\n",
        "\n",
        "6) Suporte multiplataforma: Python é uma linguagem multiplataforma, o que significa que você pode desenvolver em Python em diferentes sistemas operacionais, como Windows, macOS e Linux. Isso torna o código portátil e facilita a colaboração em equipe.\n",
        "\n",
        "Esses são apenas alguns dos motivos pelos quais Python é amplamente utilizado e apreciado por desenvolvedores. Sua simplicidade, versatilidade, comunidade ativa e vasto ecossistema de bibliotecas são fatores que contribuem para sua popularidade e sucesso em uma variedade de aplicações."
      ],
      "metadata": {
        "id": "M3SxB_JF1HH7"
      }
    },
    {
      "cell_type": "markdown",
      "source": [
        "**3) Se você pudesse dar um conselho a Guido van Rossum, qual seria?**\n",
        "\n",
        "R: Se eu pudesse dar um conselho a Guido van Rossum, o criador da linguagem Python, seria o seguinte:\n",
        "\n",
        "\"Continue promovendo e incentivando a comunidade Python, dando suporte ao crescimento e à diversidade de desenvolvedores. Continue valorizando a simplicidade e legibilidade da linguagem, garantindo que novos recursos e atualizações não comprometam esses princípios fundamentais. Mantenha o equilíbrio entre inovação e estabilidade, buscando melhorias contínuas na linguagem e no ecossistema, ao mesmo tempo em que preserva a compatibilidade com versões anteriores. E, acima de tudo, ouça e valorize o feedback da comunidade Python, pois ela é uma fonte valiosa de ideias e perspectivas para o futuro da linguagem.\""
      ],
      "metadata": {
        "id": "h4-nxAG81Ld-"
      }
    },
    {
      "cell_type": "markdown",
      "source": [
        "**4) O que são docstrings em Python, como usa e qual a importância?**\n",
        "\n",
        "R: As docstrings em Python são strings de documentação inseridas como o primeiro elemento de uma função, classe, método ou módulo. Elas são usadas para descrever o propósito, comportamento e uso dessas estruturas de código. As docstrings são delimitadas por três aspas simples (''') ou três aspas duplas (\"\"\").\n",
        "\n",
        "As docstrings podem conter informações sobre os parâmetros da função, o valor de retorno, exemplos de uso e qualquer outra informação relevante que ajude os desenvolvedores a entenderem e utilizarem corretamente a função.\n",
        "\n",
        "A importância das docstrings está relacionada à documentação do código. Elas servem como uma forma de fornecer informações claras e concisas sobre a finalidade e a forma de uso de uma função, classe, método ou módulo. As docstrings facilitam a compreensão do código, tanto para o próprio desenvolvedor quanto para outros colaboradores que possam trabalhar no projeto. Além disso, elas são utilizadas por ferramentas de documentação automática, como o Sphinx, para gerar documentação mais elaborada a partir do código-fonte.\n",
        "\n",
        "Ao escrever docstrings, é importante seguir as convenções estabelecidas pelo PEP 257, que define as diretrizes para a escrita de docstrings em Python. Isso inclui a adoção de uma estrutura consistente, uso adequado de formatação e descrições claras e informativas.\n",
        "\n",
        "Em resumo, as docstrings em Python são strings de documentação utilizadas para descrever funções, classes, métodos e módulos. Elas desempenham um papel importante na documentação do código, fornecendo informações essenciais para a compreensão e o uso correto das estruturas de código.\n"
      ],
      "metadata": {
        "id": "PjkVYNh01c3C"
      }
    },
    {
      "cell_type": "markdown",
      "source": [
        "# **5) Exemplo de docstring**"
      ],
      "metadata": {
        "id": "WVn7V2PhxUsG"
      }
    },
    {
      "cell_type": "code",
      "execution_count": null,
      "metadata": {
        "id": "PjZkd1I6xEA7"
      },
      "outputs": [],
      "source": [
        "def calcular_soma(a, b):\n",
        "    \"\"\"\n",
        "    Calcula a soma de dois números e exibe o resultado.\n",
        "\n",
        "    Args:\n",
        "        a (int): O primeiro número.\n",
        "        b (int): O segundo número.\n",
        "\n",
        "    Returns:\n",
        "        int: A soma dos dois números.\n",
        "\n",
        "    Example:\n",
        "        >>> calcular_soma(3, 5)\n",
        "        A soma de 3 e 5 é 8.\n",
        "        8\n",
        "    \"\"\"\n",
        "    soma = a + b\n",
        "    print(f\"A soma de {a} e {b} é {soma}.\")\n",
        "    return soma\n",
        "\n",
        "# Resultado da função\n",
        "print(calcular_soma(3, 5))"
      ]
    },
    {
      "cell_type": "markdown",
      "source": [
        "# **Case 1**\n",
        "\n",
        "Em um arquivo CSV contendo dados de vendas de uma empresa. Escreva um script Python que leia o arquivo e produza um relatório sumarizando as vendas por mês. Saida em PDF apresentando um relatório básico com o resultado. Mostre seu estilo de documenteção do código e aplique pep 8 ao código. (o foco é demostrar seu estilo de documentação e aplicação de pep 8.)"
      ],
      "metadata": {
        "id": "8tfgzFpvxd63"
      }
    },
    {
      "cell_type": "markdown",
      "source": [
        "**Exercício 2 (intermediário) Opção - 1**"
      ],
      "metadata": {
        "id": "IOm2IdAexhwN"
      }
    },
    {
      "cell_type": "code",
      "source": [
        "import pandas as pd\n",
        "import matplotlib.pyplot as plt"
      ],
      "metadata": {
        "id": "lH2-xU29xX4f"
      },
      "execution_count": null,
      "outputs": []
    },
    {
      "cell_type": "code",
      "source": [
        "def generate_sales_report(pdf_file):\n",
        "    \"\"\"\n",
        "    Lê um arquivo CSV contendo dados de vendas e produz um relatório sumarizando as vendas por mês.\n",
        "\n",
        "    Args:\n",
        "        pdf_file (str): O caminho do arquivo PDF para salvar o relatório.\n",
        "\n",
        "    Returns:\n",
        "        None\n",
        "    \"\"\"\n",
        "    # Dados de exemplo\n",
        "    sales_data = pd.DataFrame({\n",
        "        'Data': ['2023-01-01', '2023-01-15', '2023-02-03', '2023-02-18', '2023-03-10'],\n",
        "        'Vendas': [1000, 1500, 800, 1200, 900]\n",
        "    })\n",
        "\n",
        "    # Converte a coluna de datas para o formato apropriado\n",
        "    sales_data['Data'] = pd.to_datetime(sales_data['Data'])\n",
        "\n",
        "    # Extrai o mês de cada data\n",
        "    sales_data['Mês'] = sales_data['Data'].dt.month\n",
        "\n",
        "    # Agrupa as vendas por mês e calcula o total de vendas\n",
        "    monthly_sales = sales_data.groupby('Mês')['Vendas'].sum()\n",
        "\n",
        "    # Cria um gráfico de barras para o relatório\n",
        "    plt.bar(monthly_sales.index, monthly_sales.values)\n",
        "    plt.xlabel('Mês')\n",
        "    plt.ylabel('Total de Vendas')\n",
        "    plt.title('Relatório de Vendas por Mês')\n",
        "\n",
        "    # Salva o gráfico como um arquivo PDF\n",
        "    plt.savefig(pdf_file)\n",
        "\n",
        "    # Fecha o gráfico\n",
        "    plt.close()\n",
        "\n",
        "    print(f\"Relatório gerado e salvo em {pdf_file}.\")"
      ],
      "metadata": {
        "id": "yAfQ_7tmxX9Z"
      },
      "execution_count": null,
      "outputs": []
    },
    {
      "cell_type": "code",
      "source": [
        "# Exemplo de uso do script\n",
        "pdf_file = 'relatorio_vendas.pdf'"
      ],
      "metadata": {
        "id": "1esQQFNoxomd"
      },
      "execution_count": null,
      "outputs": []
    },
    {
      "cell_type": "code",
      "source": [
        "generate_sales_report(pdf_file)"
      ],
      "metadata": {
        "id": "YE_C4NyDxrSa"
      },
      "execution_count": null,
      "outputs": []
    },
    {
      "cell_type": "markdown",
      "source": [
        "#**Case 2**\n",
        "\n",
        "Extraia o texto de um documento PDF e organize-o em parágrafos separados. Em seguida, use técnicas de Processamento de Linguagem Natural (NLP) para fazer correções gramaticais e semânticas e criar um resumo condensado de cada parágrafo. Guarde os resultados em um arquivo CSV, com cada linha representando um parágrafo e as colunas definidas como: 'Página Original', 'Conteúdo Original do Parágrafo' e 'Processamento e Resumo'. Use as bibliotecas da OpenAI para esta tarefa, escolhendo o modelo que oferece a melhor relação custo-benefício. Neste exercício, você não precisa se preocupar com controle de erros ou implementação de testes, o foco está na funcionalidade principal e na utilização eficiente das bibliotecas e ferramentas mencionadas."
      ],
      "metadata": {
        "id": "GTWjWTP-yZWl"
      }
    },
    {
      "cell_type": "markdown",
      "source": [
        "**Exercício 2 (intermediário) Opção - 1**"
      ],
      "metadata": {
        "id": "-yAgQsAqyexf"
      }
    },
    {
      "cell_type": "code",
      "source": [
        "!pip install PyPDF2\n",
        "!pip install spacy\n",
        "!python -m spacy download pt_core_news_sm\n",
        "!pip install pandas"
      ],
      "metadata": {
        "id": "akC_-00RxvTM"
      },
      "execution_count": null,
      "outputs": []
    },
    {
      "cell_type": "code",
      "source": [
        "import csv\n",
        "import PyPDF2\n",
        "import spacy\n",
        "import pandas as pd"
      ],
      "metadata": {
        "id": "PQF7xW0byg6B"
      },
      "execution_count": null,
      "outputs": []
    },
    {
      "cell_type": "code",
      "source": [
        "# Carregar modelo de processamento de linguagem natural\n",
        "nlp = spacy.load('en_core_web_sm')"
      ],
      "metadata": {
        "id": "iqQolPFJyg9E"
      },
      "execution_count": null,
      "outputs": []
    },
    {
      "cell_type": "code",
      "source": [
        "# Abrir o arquivo PDF\n",
        "pdf_file = '/content/avengers-endgame-script-slug.pdf'"
      ],
      "metadata": {
        "id": "5MsETqdayoR9"
      },
      "execution_count": null,
      "outputs": []
    },
    {
      "cell_type": "code",
      "source": [
        "# Carregando arquivo\n",
        "with open(pdf_file, 'rb') as file:\n",
        "    pdf_reader = PyPDF2.PdfReader(file)\n",
        "    num_pages = len(pdf_reader.pages)\n",
        "\n",
        "    # Inicializar lista para armazenar os resultados\n",
        "    results = []\n",
        "\n",
        "    # Extrair o texto de cada página e processar os parágrafos\n",
        "    for page_number, page in enumerate(pdf_reader.pages, 1):\n",
        "        text = page.extract_text()\n",
        "\n",
        "        # Dividir o texto em parágrafos\n",
        "        paragraphs = text.split('\\n\\n')\n",
        "\n",
        "        # Processar cada parágrafo\n",
        "        for paragraph in paragraphs:\n",
        "            # Remover quebras de linha adicionais e espaços em branco\n",
        "            paragraph = paragraph.strip()\n",
        "\n",
        "            if paragraph:\n",
        "                # Processar o parágrafo usando o modelo spaCy\n",
        "                doc = nlp(paragraph)\n",
        "\n",
        "                # Criar um resumo condensado do parágrafo\n",
        "                summary = ' '.join(sent.text for sent in doc.sents)\n",
        "\n",
        "                # Armazenar os resultados\n",
        "                results.append((page_number, paragraph, summary))"
      ],
      "metadata": {
        "id": "_kGsSEl6yoVG"
      },
      "execution_count": null,
      "outputs": []
    },
    {
      "cell_type": "code",
      "source": [
        "# Salvar os resultados em um arquivo CSV\n",
        "output_file = 'resultado.csv'"
      ],
      "metadata": {
        "id": "6E5sHAZnyoXs"
      },
      "execution_count": null,
      "outputs": []
    },
    {
      "cell_type": "code",
      "source": [
        "# Arquivo CSV de saída\n",
        "with open(output_file, 'w', newline='', encoding='utf-8') as file:\n",
        "    writer = csv.writer(file)\n",
        "    writer.writerow(['Página Original', 'Conteúdo Original do Parágrafo', 'Processamento e Resumo'])\n",
        "    writer.writerows(results)"
      ],
      "metadata": {
        "id": "Jjfq_hJtyg_x"
      },
      "execution_count": null,
      "outputs": []
    },
    {
      "cell_type": "code",
      "source": [
        "# Ler o arquivo CSV usando pandas\n",
        "df = pd.read_csv(output_file)\n",
        "print(df.head(5))"
      ],
      "metadata": {
        "id": "g2ksLSXSy2uU"
      },
      "execution_count": null,
      "outputs": []
    },
    {
      "cell_type": "markdown",
      "source": [
        "# **Exercício 2 (intermediário) Opção - 2**"
      ],
      "metadata": {
        "id": "5C6sxirgy983"
      }
    },
    {
      "cell_type": "code",
      "source": [
        "!pip install PyPDF2\n",
        "!pip install spacy\n",
        "!pip install openai\n",
        "!pip install pdfplumber\n",
        "!python -m spacy download en_core_web_sm\n",
        "!python -m spacy download en_core_web_md"
      ],
      "metadata": {
        "id": "MLTjsN1sy2BL"
      },
      "execution_count": null,
      "outputs": []
    },
    {
      "cell_type": "code",
      "source": [
        "# Importando as bibliotecas\n",
        "\n",
        "# Importando bibliotecas carregamento arquivo\n",
        "import csv\n",
        "import pdfplumber\n",
        "from PyPDF2 import PdfFileReader\n",
        "\n",
        "# Importando biblioteca nlp\n",
        "import spacy\n",
        "\n",
        "# Importando biblioteca openai\n",
        "import openai"
      ],
      "metadata": {
        "id": "jFLdJIrnzBdh"
      },
      "execution_count": null,
      "outputs": []
    },
    {
      "cell_type": "code",
      "source": [
        "# Configuração do modelo da OpenAI\n",
        "openai.api_key = 'KEY'"
      ],
      "metadata": {
        "id": "f0WnmmQpzBhL"
      },
      "execution_count": null,
      "outputs": []
    },
    {
      "cell_type": "code",
      "source": [
        "# Usando o modelo text-davinci-003 da OpenAI.\n",
        "# Os resultados são salvos em um arquivo CSV com três colunas: 'Página Original', 'Conteúdo Original do Parágrafo' e 'Processamento e Resumo'.\n",
        "# Ao final, uma mensagem indicando a conclusão do processamento é exibida.\n",
        "\n",
        "def extract_text_from_pdf(file_path):\n",
        "    \"\"\"\n",
        "    Extrai o texto de um arquivo PDF usando a biblioteca pdfplumber.\n",
        "\n",
        "    Args:\n",
        "        file_path (str): Caminho para o arquivo PDF.\n",
        "\n",
        "    Returns:\n",
        "        str: Texto extraído do arquivo PDF.\n",
        "    \"\"\"\n",
        "    with pdfplumber.open(file_path) as pdf:\n",
        "        text = ''\n",
        "        for page in pdf.pages:\n",
        "            text += page.extract_text()\n",
        "        return text\n",
        "\n",
        "\n",
        "def process_text(text):\n",
        "    \"\"\"\n",
        "    Processa o texto extraído de um arquivo PDF.\n",
        "\n",
        "    Args:\n",
        "        text (str): Texto extraído do arquivo PDF.\n",
        "\n",
        "    Returns:\n",
        "        list: Lista contendo tuplas com o parágrafo original, parágrafo corrigido e resumo condensado.\n",
        "    \"\"\"\n",
        "    nlp = spacy.load('en_core_web_md')\n",
        "\n",
        "    doc = nlp(text)\n",
        "\n",
        "    processed_text = []\n",
        "\n",
        "    for paragraph in doc.sents:\n",
        "        original_content = paragraph.text\n",
        "\n",
        "        # Correção gramatical e semântica usando spaCy\n",
        "        corrected_content = str(paragraph)\n",
        "\n",
        "        # Resumo condensado usando o modelo da OpenAI\n",
        "        summary = openai.Completion.create(\n",
        "            model='text-davinci-003',\n",
        "            prompt=corrected_content,\n",
        "            max_tokens=50,\n",
        "            temperature=0.3,\n",
        "            stop=None,\n",
        "            n=1\n",
        "        ).choices[0].text.strip()\n",
        "\n",
        "        processed_text.append((original_content, corrected_content, summary))\n",
        "\n",
        "    return processed_text"
      ],
      "metadata": {
        "id": "abgHk1UDzBkg"
      },
      "execution_count": null,
      "outputs": []
    },
    {
      "cell_type": "code",
      "source": [
        "# Base dados\n",
        "file_path = '/content/avengers-endgame-script-slug.pdf'"
      ],
      "metadata": {
        "id": "Y3mUS-a9zBnE"
      },
      "execution_count": null,
      "outputs": []
    },
    {
      "cell_type": "code",
      "source": [
        "# Extração dados\n",
        "text = extract_text_from_pdf(file_path)"
      ],
      "metadata": {
        "id": "JS--x1OlzBpp"
      },
      "execution_count": null,
      "outputs": []
    },
    {
      "cell_type": "code",
      "source": [
        "%%time\n",
        "\n",
        "# Pré-processamento\n",
        "processed_text = process_text(text)"
      ],
      "metadata": {
        "id": "GNvcMbx-zN6c"
      },
      "execution_count": null,
      "outputs": []
    },
    {
      "cell_type": "code",
      "source": [
        "# Resultado final\n",
        "csv_file = 'resultado.csv'"
      ],
      "metadata": {
        "id": "ePhH-wjXzRP9"
      },
      "execution_count": null,
      "outputs": []
    },
    {
      "cell_type": "code",
      "source": [
        "# Visualizando os dados\n",
        "with open(csv_file, 'w', newline='', encoding='utf-8') as file:\n",
        "    writer = csv.writer(file)\n",
        "    writer.writerow(['Página Original', 'Conteúdo Original do Parágrafo', 'Processamento e Resumo'])\n",
        "    writer.writerows(processed_text)\n",
        "\n",
        "print('Processamento concluído e resultado salvo no arquivo CSV.')"
      ],
      "metadata": {
        "id": "8I_Bd6e6zTgU"
      },
      "execution_count": null,
      "outputs": []
    },
    {
      "cell_type": "code",
      "source": [],
      "metadata": {
        "id": "iij_Kris0x45"
      },
      "execution_count": null,
      "outputs": []
    }
  ]
}